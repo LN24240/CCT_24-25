{
 "cells": [
  {
   "cell_type": "code",
   "execution_count": 1,
   "id": "80c029b7-5879-48f7-b991-bb10f007864a",
   "metadata": {},
   "outputs": [],
   "source": [
    "import pandas as pd"
   ]
  },
  {
   "cell_type": "code",
   "execution_count": 5,
   "id": "53543cb5-ba67-42a9-9332-b3dd1f84a984",
   "metadata": {},
   "outputs": [
    {
     "name": "stdout",
     "output_type": "stream",
     "text": [
      "                                 Statistic Label         Month  \\\n",
      "0        Number of Passengers Departing Overseas  2023 January   \n",
      "1        Number of Passengers Departing Overseas  2023 January   \n",
      "2        Number of Passengers Departing Overseas  2023 January   \n",
      "3        Number of Passengers Departing Overseas  2023 January   \n",
      "4        Number of Passengers Departing Overseas  2023 January   \n",
      "..                                           ...           ...   \n",
      "235  Percentage of Passengers Departing Overseas   2024 August   \n",
      "236  Percentage of Passengers Departing Overseas   2024 August   \n",
      "237  Percentage of Passengers Departing Overseas   2024 August   \n",
      "238  Percentage of Passengers Departing Overseas   2024 August   \n",
      "239  Percentage of Passengers Departing Overseas   2024 August   \n",
      "\n",
      "                     Passenger Category      UNIT  VALUE  \n",
      "0                        Outbound Irish  Thousand  715.1  \n",
      "1      Same Day Visitor: Northern Irish  Thousand   49.8  \n",
      "2            Same Day Visitor: Transfer  Thousand   47.6  \n",
      "3               Same Day Visitor: Other  Thousand   17.3  \n",
      "4    Overnight Foreign Resident Visitor  Thousand  400.0  \n",
      "..                                  ...       ...    ...  \n",
      "235    Same Day Visitor: Northern Irish         %    4.0  \n",
      "236          Same Day Visitor: Transfer         %    4.8  \n",
      "237             Same Day Visitor: Other         %    1.1  \n",
      "238  Overnight Foreign Resident Visitor         %   33.1  \n",
      "239            All Passenger Categories         %  100.0  \n",
      "\n",
      "[240 rows x 5 columns]\n"
     ]
    }
   ],
   "source": [
    "df = pd.read_csv('ITM01.20241007T201037.csv')\n",
    "print(df)"
   ]
  },
  {
   "cell_type": "code",
   "execution_count": 7,
   "id": "2144ccc0-cafb-4032-9fbb-b906d96b8263",
   "metadata": {},
   "outputs": [
    {
     "data": {
      "text/html": [
       "<div>\n",
       "<style scoped>\n",
       "    .dataframe tbody tr th:only-of-type {\n",
       "        vertical-align: middle;\n",
       "    }\n",
       "\n",
       "    .dataframe tbody tr th {\n",
       "        vertical-align: top;\n",
       "    }\n",
       "\n",
       "    .dataframe thead th {\n",
       "        text-align: right;\n",
       "    }\n",
       "</style>\n",
       "<table border=\"1\" class=\"dataframe\">\n",
       "  <thead>\n",
       "    <tr style=\"text-align: right;\">\n",
       "      <th></th>\n",
       "      <th>Statistic Label</th>\n",
       "      <th>Month</th>\n",
       "      <th>Passenger Category</th>\n",
       "      <th>UNIT</th>\n",
       "      <th>VALUE</th>\n",
       "    </tr>\n",
       "  </thead>\n",
       "  <tbody>\n",
       "    <tr>\n",
       "      <th>0</th>\n",
       "      <td>Number of Passengers Departing Overseas</td>\n",
       "      <td>2023 January</td>\n",
       "      <td>Outbound Irish</td>\n",
       "      <td>Thousand</td>\n",
       "      <td>715.1</td>\n",
       "    </tr>\n",
       "    <tr>\n",
       "      <th>1</th>\n",
       "      <td>Number of Passengers Departing Overseas</td>\n",
       "      <td>2023 January</td>\n",
       "      <td>Same Day Visitor: Northern Irish</td>\n",
       "      <td>Thousand</td>\n",
       "      <td>49.8</td>\n",
       "    </tr>\n",
       "    <tr>\n",
       "      <th>2</th>\n",
       "      <td>Number of Passengers Departing Overseas</td>\n",
       "      <td>2023 January</td>\n",
       "      <td>Same Day Visitor: Transfer</td>\n",
       "      <td>Thousand</td>\n",
       "      <td>47.6</td>\n",
       "    </tr>\n",
       "    <tr>\n",
       "      <th>3</th>\n",
       "      <td>Number of Passengers Departing Overseas</td>\n",
       "      <td>2023 January</td>\n",
       "      <td>Same Day Visitor: Other</td>\n",
       "      <td>Thousand</td>\n",
       "      <td>17.3</td>\n",
       "    </tr>\n",
       "    <tr>\n",
       "      <th>4</th>\n",
       "      <td>Number of Passengers Departing Overseas</td>\n",
       "      <td>2023 January</td>\n",
       "      <td>Overnight Foreign Resident Visitor</td>\n",
       "      <td>Thousand</td>\n",
       "      <td>400.0</td>\n",
       "    </tr>\n",
       "  </tbody>\n",
       "</table>\n",
       "</div>"
      ],
      "text/plain": [
       "                           Statistic Label         Month  \\\n",
       "0  Number of Passengers Departing Overseas  2023 January   \n",
       "1  Number of Passengers Departing Overseas  2023 January   \n",
       "2  Number of Passengers Departing Overseas  2023 January   \n",
       "3  Number of Passengers Departing Overseas  2023 January   \n",
       "4  Number of Passengers Departing Overseas  2023 January   \n",
       "\n",
       "                   Passenger Category      UNIT  VALUE  \n",
       "0                      Outbound Irish  Thousand  715.1  \n",
       "1    Same Day Visitor: Northern Irish  Thousand   49.8  \n",
       "2          Same Day Visitor: Transfer  Thousand   47.6  \n",
       "3             Same Day Visitor: Other  Thousand   17.3  \n",
       "4  Overnight Foreign Resident Visitor  Thousand  400.0  "
      ]
     },
     "execution_count": 7,
     "metadata": {},
     "output_type": "execute_result"
    }
   ],
   "source": [
    "df.head()"
   ]
  },
  {
   "cell_type": "code",
   "execution_count": null,
   "id": "84a77c28-4c5c-4e46-a7a9-9d7b66aa07a3",
   "metadata": {},
   "outputs": [],
   "source": []
  }
 ],
 "metadata": {
  "kernelspec": {
   "display_name": "Python 3 (ipykernel)",
   "language": "python",
   "name": "python3"
  },
  "language_info": {
   "codemirror_mode": {
    "name": "ipython",
    "version": 3
   },
   "file_extension": ".py",
   "mimetype": "text/x-python",
   "name": "python",
   "nbconvert_exporter": "python",
   "pygments_lexer": "ipython3",
   "version": "3.12.4"
  }
 },
 "nbformat": 4,
 "nbformat_minor": 5
}
